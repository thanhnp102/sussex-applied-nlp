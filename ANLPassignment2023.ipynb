{
  "cells": [
    {
      "cell_type": "markdown",
      "metadata": {
        "id": "f2S8I2ny-ovS"
      },
      "source": [
        "# ANLP Assignment: Sentiment Classification\n",
        "\n",
        "In this assignment, you will be investigating NLP methods for distinguishing positive and negative reviews written about movies.\n",
        "\n",
        "For assessment, you are expected to complete and submit this notebook file.  When answers require code, you may import and use library functions (unless explicitly told otherwise).  All of your own code should be included in the notebook rather than imported from elsewhere.  Written answers should also be included in the notebook.  You should insert as many extra cells as you want and change the type between code and markdown as appropriate.\n",
        "\n",
        "In order to avoid misconduct, you should not talk about the assignment questions with your peers.  If you are not sure what a question is asking you to do or have any other questions, please ask me or one of the Teaching Assistants.\n",
        "\n",
        "Marking guidelines are provided as a separate document.\n",
        "\n",
        "The first few cells contain code to set-up the assignment and bring in some data.   In order to provide unique datasets for analysis by different students, you must enter your candidate number in the following cell.  Otherwise do not change the code in these cells."
      ]
    },
    {
      "cell_type": "code",
      "execution_count": 1,
      "metadata": {
        "id": "1gXQAZas-l9c"
      },
      "outputs": [],
      "source": [
        "candidateno=277269 #this MUST be updated to your candidate number so that you get a unique data sample"
      ]
    },
    {
      "cell_type": "code",
      "execution_count": 2,
      "metadata": {
        "colab": {
          "base_uri": "https://localhost:8080/"
        },
        "id": "nk8JTP88A8vs",
        "outputId": "5ce22518-19d8-4c38-b8f9-13732a3c7a44"
      },
      "outputs": [
        {
          "name": "stderr",
          "output_type": "stream",
          "text": [
            "[nltk_data] Downloading package punkt to\n",
            "[nltk_data]     /Users/thanhnguyen/nltk_data...\n",
            "[nltk_data]   Package punkt is already up-to-date!\n",
            "[nltk_data] Downloading package stopwords to\n",
            "[nltk_data]     /Users/thanhnguyen/nltk_data...\n",
            "[nltk_data]   Package stopwords is already up-to-date!\n",
            "[nltk_data] Downloading package movie_reviews to\n",
            "[nltk_data]     /Users/thanhnguyen/nltk_data...\n",
            "[nltk_data]   Unzipping corpora/movie_reviews.zip.\n"
          ]
        }
      ],
      "source": [
        "#do not change the code in this cell\n",
        "#preliminary imports\n",
        "\n",
        "#set up nltk\n",
        "import nltk\n",
        "nltk.download('punkt')\n",
        "nltk.download('stopwords')\n",
        "nltk.download('movie_reviews')\n",
        "from nltk.corpus import stopwords\n",
        "from nltk.tokenize import word_tokenize\n",
        "from nltk.corpus import movie_reviews\n",
        "\n",
        "#for setting up training and testing data\n",
        "import random\n",
        "\n",
        "#useful other tools\n",
        "import re\n",
        "import pandas as pd\n",
        "import matplotlib.pyplot as plt\n",
        "%matplotlib inline\n",
        "from itertools import zip_longest\n",
        "from nltk.probability import FreqDist\n",
        "from nltk.classify.api import ClassifierI\n"
      ]
    },
    {
      "cell_type": "code",
      "execution_count": 3,
      "metadata": {
        "id": "BHBkzAccCVaZ"
      },
      "outputs": [],
      "source": [
        "#do not change the code in this cell\n",
        "def split_data(data, ratio=0.7): # when the second argument is not given, it defaults to 0.7\n",
        "    \"\"\"\n",
        "    Given corpus generator and ratio:\n",
        "     - partitions the corpus into training data and test data, where the proportion in train is ratio,\n",
        "\n",
        "    :param data: A corpus generator.\n",
        "    :param ratio: The proportion of training documents (default 0.7)\n",
        "    :return: a pair (tuple) of lists where the first element of the\n",
        "            pair is a list of the training data and the second is a list of the test data.\n",
        "    \"\"\"\n",
        "\n",
        "    data = list(data)\n",
        "    n = len(data)\n",
        "    train_indices = random.sample(range(n), int(n * ratio))\n",
        "    test_indices = list(set(range(n)) - set(train_indices))\n",
        "    train = [data[i] for i in train_indices]\n",
        "    test = [data[i] for i in test_indices]\n",
        "    return (train, test)\n",
        "\n",
        "\n",
        "def get_train_test_data():\n",
        "\n",
        "    #get ids of positive and negative movie reviews\n",
        "    pos_review_ids=movie_reviews.fileids('pos')\n",
        "    neg_review_ids=movie_reviews.fileids('neg')\n",
        "\n",
        "    #split positive and negative data into training and testing sets\n",
        "    pos_train_ids, pos_test_ids = split_data(pos_review_ids)\n",
        "    neg_train_ids, neg_test_ids = split_data(neg_review_ids)\n",
        "    #add labels to the data and concatenate\n",
        "    training = [(movie_reviews.words(f),'pos') for f in pos_train_ids]+[(movie_reviews.words(f),'neg') for f in neg_train_ids]\n",
        "    testing = [(movie_reviews.words(f),'pos') for f in pos_test_ids]+[(movie_reviews.words(f),'neg') for f in neg_test_ids]\n",
        "\n",
        "    return training, testing"
      ]
    },
    {
      "cell_type": "markdown",
      "metadata": {
        "id": "1N3LWwBYICPP"
      },
      "source": [
        "When you have run the cell below, your unique training and testing samples will be stored in `training_data` and `testing_data`"
      ]
    },
    {
      "cell_type": "code",
      "execution_count": 4,
      "metadata": {
        "id": "HJLegkdPFUJA"
      },
      "outputs": [
        {
          "name": "stdout",
          "output_type": "stream",
          "text": [
            "The amount of training data is 1400\n",
            "The amount of testing data is 600\n",
            "The representation of a single data item is below\n",
            "(['we', 'all', 'know', 'the', 'fate', 'of', '\"', ...], 'pos')\n"
          ]
        }
      ],
      "source": [
        "#do not change the code in this cell\n",
        "random.seed(candidateno)\n",
        "training_data,testing_data=get_train_test_data()\n",
        "print(\"The amount of training data is {}\".format(len(training_data)))\n",
        "print(\"The amount of testing data is {}\".format(len(testing_data)))\n",
        "print(\"The representation of a single data item is below\")\n",
        "print(training_data[0])"
      ]
    },
    {
      "cell_type": "markdown",
      "metadata": {
        "id": "RbTq6eGv2XT2"
      },
      "source": [
        "1)  \n",
        "a) **Generate** a list of 10 content words which are representative of the positive reviews in your training data.\n",
        "\n",
        "b) **Generate** a list of 10 content words which are representative of the negative reviews in your training data.\n",
        "\n",
        "c) **Explain** what you have done and why\n",
        "\n",
        "[20\\%]"
      ]
    },
    {
      "cell_type": "code",
      "execution_count": 5,
      "metadata": {
        "id": "JXHrtNCg2XT4"
      },
      "outputs": [],
      "source": [
        "from nltk.stem.porter import PorterStemmer\n",
        "\n",
        "st = PorterStemmer()\n",
        "stop = stopwords.words(\"english\")\n",
        "\n",
        "# normalise function\n",
        "def normalise(wordlist):\n",
        "    filtered = []\n",
        "    for token in wordlist:\n",
        "        if token.isdigit() is True:\n",
        "                token = \"NUM\"\n",
        "        elif token.isalnum() is True:\n",
        "            if token.isalpha() is True:\n",
        "                token = token.lower()\n",
        "            else:\n",
        "                token = \"Nth\"\n",
        "        else:\n",
        "            token = token\n",
        "        token = st.stem(token)\n",
        "        if token.isalpha() and token not in stop: \n",
        "            filtered.append(token)\n",
        "        else:\n",
        "            continue\n",
        "    return filtered\n",
        "\n",
        "training_norm=[(FreqDist(normalise(wordlist)),label) for (wordlist,label) in training_data]\n",
        "testing_norm=[(FreqDist(normalise(wordlist)),label) for (wordlist,label) in testing_data]"
      ]
    },
    {
      "cell_type": "code",
      "execution_count": 6,
      "metadata": {
        "id": "gvFu36xZ2XT5"
      },
      "outputs": [],
      "source": [
        "pos_freq_dist=FreqDist()\n",
        "neg_freq_dist=FreqDist()\n",
        "\n",
        "for review,label in training_norm:\n",
        "    if label=='pos':\n",
        "        pos_freq_dist+=review\n",
        "    else:\n",
        "        neg_freq_dist+=review\n",
        "\n",
        "pos_word_list = [word for (word, freq) in (pos_freq_dist-neg_freq_dist).most_common(10)]\n",
        "neg_word_list = [word for (word,freq) in (neg_freq_dist-pos_freq_dist).most_common(10)]"
      ]
    },
    {
      "cell_type": "code",
      "execution_count": 7,
      "metadata": {},
      "outputs": [
        {
          "name": "stdout",
          "output_type": "stream",
          "text": [
            "A list of 10 content words which are representative of the positive reviews\n",
            "['hi', 'film', 'life', 'ha', 'also', 'perform', 'great', 'one', 'veri', 'world']\n",
            "\n",
            "\n",
            "A list of 10 content words which are representative of the negative reviews\n",
            "['bad', 'movi', 'plot', 'whi', 'stupid', 'worst', 'wast', 'bore', 'could', 'look']\n"
          ]
        }
      ],
      "source": [
        "print(\"A list of 10 content words which are representative of the positive reviews\")\n",
        "print(pos_word_list)\n",
        "\n",
        "print(\"\\n\")\n",
        "\n",
        "print(\"A list of 10 content words which are representative of the negative reviews\")\n",
        "print(neg_word_list)"
      ]
    },
    {
      "attachments": {},
      "cell_type": "markdown",
      "metadata": {
        "id": "JauTzY5N2XUB"
      },
      "source": [
        "**1c) - Explanation**\n",
        "- First, define a function called `normalise` to normalise every review. The function includes:\n",
        "    - case normalisation \n",
        "    - number normalisation \n",
        "    - stemming using `PorterStemmer` library\n",
        "    - removing stop words and punctuation\n",
        "<br></br>\n",
        "- Then, use the `normalise` function and `FreqDist()` library to normalise and create frequency distribution for each review. The results from training and testing data sets are stored in `training_norm` and `testing_norm`.\n",
        "\n",
        "- Next, create two bags of words `pos_freq_dist` and `neg_freq_dist` for the positive segment and negative segment respectively by adding each review's `FreqDist()` to each segment's `FreqDist()` based on the labels\n",
        "\n",
        "- Subtract a bag of words from the other one to get the lists of words ordered by how much more they occur in `pos_freq_dist` than `neg_freq_dist` and vice versa. Generate the top 10 words of each list by using the `most_common(10)` method."
      ]
    },
    {
      "cell_type": "markdown",
      "metadata": {
        "id": "TApOQE6vND20"
      },
      "source": [
        "2)\n",
        "a) **Use** the lists generated in Q1 to build a **word list classifier** which will classify reviews as being positive or negative.\n",
        "\n",
        "b) **Explain** what you have done.\n",
        "\n",
        "[12.5\\%]\n"
      ]
    },
    {
      "cell_type": "code",
      "execution_count": 8,
      "metadata": {
        "id": "BThDMrcmODJy"
      },
      "outputs": [],
      "source": [
        "class WLClassifier(ClassifierI):\n",
        "\n",
        "    def __init__(self, pos, neg): \n",
        "        self._pos = pos \n",
        "        self._neg = neg \n",
        "\n",
        "    def classify(self, doc): \n",
        "        #doc is a FreqDist\n",
        "        score = 0\n",
        "        for word,count in doc.items():\n",
        "            if word in self._pos:\n",
        "                score += count\n",
        "            if word in self._neg:\n",
        "                score -= count\n",
        "        if score > 0:\n",
        "            return \"pos\"\n",
        "        elif score < 0:\n",
        "            return \"neg\"\n",
        "        else:\n",
        "            return random.choice([\"pos\", \"neg\"])\n",
        "\n",
        "    def labels(self): \n",
        "        return (\"pos\", \"neg\")\n",
        "\n",
        "word_list_classifier = WLClassifier(pos_word_list, neg_word_list)"
      ]
    },
    {
      "cell_type": "markdown",
      "metadata": {
        "id": "C6vK5Vyz2XUF"
      },
      "source": [
        "**2b) - Explanation**\n",
        "- First, define a class named `WLClassifier`. This class inherits from the `ClassifierI` class imported from `nltk.classify.api`.\n",
        "\n",
        "- Define the `__init__` function to take positive word list and negative word list as arguments `pos` and `neg`\n",
        "\n",
        "- Define the `classify` function that takes a document as input and returns the output \"pos\" or \"neg\" based on the document's score:\n",
        "    - The document's score starts at 0, increases for each word in the positive word list, and decreases for each word in the negative word list. The increased/decreased amount is the count of that word\n",
        "    - If the total document's score is 0, then random between \"pos\" and \"neg\" labels\n",
        "<br></br>\n",
        "- Create a `WLClassifier` object named `word_list_classifier` with `pos_word_list` and `neg_word_list` from Q1 as arguments"
      ]
    },
    {
      "cell_type": "markdown",
      "metadata": {
        "id": "YZdDO_Y92XUH"
      },
      "source": [
        "3)\n",
        "a) **Calculate** the accuracy, precision, recall and F1 score of your classifier.\n",
        "\n",
        "b) Is it reasonable to evaluate the classifier in terms of its accuracy?  **Explain** your answer and give a counter-example (a scenario where it would / would not be reasonable to evaluate the classifier in terms of its accuracy).\n",
        "\n",
        "[20\\%]"
      ]
    },
    {
      "cell_type": "code",
      "execution_count": 9,
      "metadata": {
        "id": "1LQc8bsA2XUI"
      },
      "outputs": [],
      "source": [
        "class ConfusionMatrix:\n",
        "\n",
        "    def __init__(self,predictions,goldstandard,classes=(\"pos\",\"neg\")):\n",
        "        (self.c1,self.c2)=classes\n",
        "        self.TP=0\n",
        "        self.FP=0\n",
        "        self.FN=0\n",
        "        self.TN=0\n",
        "        for p,g in zip(predictions,goldstandard):\n",
        "            if g==self.c1:\n",
        "                if p==self.c1:\n",
        "                    self.TP+=1\n",
        "                else:\n",
        "                    self.FN+=1\n",
        "            elif p==self.c1:\n",
        "                self.FP+=1\n",
        "            else:\n",
        "                self.TN+=1\n",
        "\n",
        "    def accuracy(self):\n",
        "        a = (self.TP + self.TN) / (self.TP + self.TN + self.FP + self.FN)\n",
        "        return a\n",
        "\n",
        "    def precision(self):\n",
        "        p = self.TP / (self.TP + self.FP)\n",
        "        return p\n",
        "\n",
        "    def recall(self):\n",
        "        r = self.TP / (self.TP + self.FN)\n",
        "        return r\n",
        "\n",
        "    def f1(self):\n",
        "        p = self.precision()\n",
        "        r = self.recall()\n",
        "        f1 = 2*p*r/(p+r)\n",
        "        return f1\n"
      ]
    },
    {
      "cell_type": "code",
      "execution_count": 10,
      "metadata": {
        "id": "R_i80ceP2XUJ"
      },
      "outputs": [],
      "source": [
        "docs,labels = zip(*testing_norm)\n",
        "word_list_predictions = word_list_classifier.classify_many(docs)"
      ]
    },
    {
      "cell_type": "code",
      "execution_count": 11,
      "metadata": {
        "id": "VbYwwhcs2XUL"
      },
      "outputs": [
        {
          "name": "stdout",
          "output_type": "stream",
          "text": [
            "The accuracy of the word_list_classifier is 0.5666666666666667\n",
            "The precision of the word_list_classifier is 0.5387596899224806\n",
            "The recall of the word_list_classifier is 0.9266666666666666\n",
            "The f1_score of the word_list_classifier is 0.6813725490196078\n"
          ]
        }
      ],
      "source": [
        "word_list_score = ConfusionMatrix(predictions=word_list_predictions, goldstandard=labels)\n",
        "\n",
        "print(f\"The accuracy of the word_list_classifier is {word_list_score.accuracy()}\")\n",
        "print(f\"The precision of the word_list_classifier is {word_list_score.precision()}\")\n",
        "print(f\"The recall of the word_list_classifier is {word_list_score.recall()}\")\n",
        "print(f\"The f1_score of the word_list_classifier is {word_list_score.f1()}\")"
      ]
    },
    {
      "cell_type": "code",
      "execution_count": 12,
      "metadata": {},
      "outputs": [
        {
          "data": {
            "text/plain": [
              "0.5"
            ]
          },
          "execution_count": 12,
          "metadata": {},
          "output_type": "execute_result"
        }
      ],
      "source": [
        "#calculate the ratio of positive review and negative review in testing data\n",
        "pos_ratio = sum(True for label in labels if label == \"pos\") / len(labels)\n",
        "pos_ratio"
      ]
    },
    {
      "cell_type": "markdown",
      "metadata": {
        "id": "AVZp0N5J2XUL"
      },
      "source": [
        "**3b) - Answer**\n",
        "- In general, it is reasonable to initially evaluate a model based on its `accuracy`. Whether we want a higher `precision`  or `recall`, they are all related to `accuracy`.\n",
        "\n",
        "- However, the `accuracy` of a model could be unreliable if our classes' sizes are unbalanced. Moreover, depending on requirements and context, we need to calculate other scores like `precision` or `recall` to evaluate whether our model is good enough.\n",
        "\n",
        "- Real scenarios:\n",
        "    - User retention after 7 days of a mobile game tends to be around 10%. Let's say we need to identify users who will play for more than 7 days for a special event to boost their purchases. It is easy to get a 90% `accuracy` if we predict all the users will churn. But then our `recall` will be 0, and we have no customers for the campaign. So we need to maximize the `recall` because we should run the campaign on all users likely to play more than 7 days, even if they're not. Here is when `recall` becomes more critical than `accuracy`.\n",
        "    - On the other hand, the `word_list_classifier` above has the `recall` at 0.93 approximately, but its `accuracy` is only 56%. We can quickly get a 100% `recall` if we predict all the review is positive. But, if the ratio between positive reviews and negative reviews in testing data is 50:50 (as calculated above), then the `accuracy` and `precision` will be only 50%, which is not the case we want. We want to segment the reviews, whether positive or negative, as accurately as possible rather than assume all of them are positive. And it is clear that the `word_list_classifier` does not perform well when its `accuracy` is only slightly higher than 50%."
      ]
    },
    {
      "cell_type": "markdown",
      "metadata": {
        "id": "LIS9UpmJNEAp"
      },
      "source": [
        "4)\n",
        "a)  **Construct** a Naive Bayes classifier (e.g., from NLTK).\n",
        "\n",
        "b)  **Compare** the performance of your word list classifier with the Naive Bayes classifier.  **Discuss** your results.\n",
        "\n",
        "[12.5\\%]"
      ]
    },
    {
      "cell_type": "code",
      "execution_count": 13,
      "metadata": {
        "id": "Gwjig-Y12XUN"
      },
      "outputs": [],
      "source": [
        "import numpy as np\n",
        "\n",
        "class NBClassifier(ClassifierI):\n",
        "\n",
        "    def __init__(self):\n",
        "        pass\n",
        "\n",
        "    # create a known vocabulary for smoothing\n",
        "    def _set_known_vocabulary(self,training_data):\n",
        "        known = []\n",
        "        for doc,label in training_data:\n",
        "            known += list(doc.keys())\n",
        "        self.known = set(known)\n",
        "\n",
        "    # calculate the prior probability of a class\n",
        "    def _set_priors(self,training_data):\n",
        "        classes = {}\n",
        "        for i in training_data:\n",
        "            classes[i[1]] = classes.get(i[1],0) + 1\n",
        "        sum_class = sum(value for value in classes.values())\n",
        "        for c in classes:\n",
        "            classes[c] = classes[c]/sum_class\n",
        "        self.priors = classes\n",
        "\n",
        "    # compute the conditional probability of a document\n",
        "    def _set_cond_probs(self,training_data):       \n",
        "        cond_probs = {}\n",
        "        for s,c in training_data:\n",
        "            cond_probs[c] = cond_probs.get(c,FreqDist({})) + s\n",
        "        for c in cond_probs:\n",
        "            for w in self.known:\n",
        "                cond_probs[c][w] = cond_probs[c].get(w,0) + 1 # add-one smoothing\n",
        "        for c in cond_probs:\n",
        "            sum_word = sum(cond_probs[c].values())\n",
        "            cond_probs[c] = {key:value/sum_word for key, value in cond_probs[c].items()}\n",
        "        self.c_probs = cond_probs\n",
        "\n",
        "    def train(self,training_data):\n",
        "        self._set_known_vocabulary(training_data)\n",
        "        self._set_priors(training_data)\n",
        "        self._set_cond_probs(training_data)\n",
        "\n",
        "    def classify(self,doc):\n",
        "        # use log operation for dealing with underflow\n",
        "        doc_probs={key:np.log(value) for (key,value) in self.priors.items()} \n",
        "        for c in doc_probs.keys():\n",
        "            for w in doc.keys():\n",
        "                if w in self.known:\n",
        "                    doc_probs[c] = doc_probs[c] + np.log(self.c_probs[c].get(w,0))\n",
        "        highprob=max(doc_probs.values())\n",
        "        classes=[c for c in doc_probs.keys() if doc_probs[c]==highprob]\n",
        "        return random.choice(classes)"
      ]
    },
    {
      "cell_type": "code",
      "execution_count": 14,
      "metadata": {},
      "outputs": [],
      "source": [
        "naive_bayes_classifier = NBClassifier()\n",
        "naive_bayes_classifier.train(training_norm)\n",
        "navie_bayes_predictions = naive_bayes_classifier.classify_many(docs)"
      ]
    },
    {
      "cell_type": "code",
      "execution_count": 15,
      "metadata": {
        "id": "3AUsYRMa2XUN"
      },
      "outputs": [
        {
          "name": "stdout",
          "output_type": "stream",
          "text": [
            "The accuracy of the naive_bayes_classifier is 0.84\n",
            "The precision of the naive_bayes_classifier is 0.8469387755102041\n",
            "The recall of the naive_bayes_classifier is 0.83\n",
            "The f1_score of the naive_bayes_classifier is 0.8383838383838385\n"
          ]
        }
      ],
      "source": [
        "naive_bayes_score = ConfusionMatrix(predictions=navie_bayes_predictions, goldstandard=labels)\n",
        "\n",
        "print(f\"The accuracy of the naive_bayes_classifier is {naive_bayes_score.accuracy()}\")\n",
        "print(f\"The precision of the naive_bayes_classifier is {naive_bayes_score.precision()}\")\n",
        "print(f\"The recall of the naive_bayes_classifier is {naive_bayes_score.recall()}\")\n",
        "print(f\"The f1_score of the naive_bayes_classifier is {naive_bayes_score.f1()}\")"
      ]
    },
    {
      "cell_type": "code",
      "execution_count": 16,
      "metadata": {},
      "outputs": [
        {
          "data": {
            "text/plain": [
              "0.86"
            ]
          },
          "execution_count": 16,
          "metadata": {},
          "output_type": "execute_result"
        }
      ],
      "source": [
        "#calculate the ratio of positive review and negative review in word_list_prediction\n",
        "wl_pos_predict_ratio = sum(True for label in word_list_predictions if label == \"pos\") / len(word_list_predictions)\n",
        "wl_pos_predict_ratio"
      ]
    },
    {
      "cell_type": "code",
      "execution_count": 17,
      "metadata": {},
      "outputs": [
        {
          "data": {
            "text/plain": [
              "0.49"
            ]
          },
          "execution_count": 17,
          "metadata": {},
          "output_type": "execute_result"
        }
      ],
      "source": [
        "#calculate the ratio of positive review and negative review in navie_bayes_predictions\n",
        "nb_pos_predict_ratio = sum(True for label in navie_bayes_predictions if label == \"pos\") / len(navie_bayes_predictions)\n",
        "nb_pos_predict_ratio"
      ]
    },
    {
      "cell_type": "markdown",
      "metadata": {
        "id": "bytPkuHf2XUO"
      },
      "source": [
        "**4b) - Answer**\n",
        "- The performance of the `naive_bayes_classifier` built above is much better than the former `word_list_classifier`.\n",
        "\n",
        "- With the ratio between positive reviews and negative reviews in testing data at 50:50, the `word_list_classifier` does not perform well when all of its `accuracy` and  `precision` are only slightly higher than 0.5, although its `recall` is ~ 0.93. As explained, we want to segment the reviews, whether they are positive or negative, as accurately as possible rather than assume all of them are positive.  \n",
        "    - Calculating the ratio of positives in predictions by the `word_list_classifier`, we can see that the model predicted 86% of reviews are positive. The ratio is far from the actual ratio in testing data (0.5), and this explains why the model's `recall` was high because it assumed most of the reviews were positive. It means that the `recall` for negative reviews is very low.\n",
        "    - A reason could be the way that word lists were constructed. The positive word list is the top 10 words that occur more in positive reviews rather than in negative reviews. But there is a chance that there are words that have different occurrences ranked in the top 10, although they occur a lot in both types of reviews (e.g., negatives could include \"not good\" or \"not great\"). Then, these words represent positive reviews, affecting documents' scores and indirectly making many negative reviews predicted as positives because they also appear a lot in negatives.\n",
        "<br></br>\n",
        "- On the other hand, despite getting lower `recall`, the `naive_bayes_classifier` performs pretty well when its `accuracy` and `precision` are quite high at 84% (even the `recall` is considerably high at 83%)\n",
        "    - In more detail, the ratio between positives and negatives in its prediction is almost identical to the true ratio in testing data. It means that the high scores of the model are not affected by the assumption that all/most reviews are positive or negative."
      ]
    },
    {
      "cell_type": "markdown",
      "metadata": {
        "id": "LGDXaVDqOSfY"
      },
      "source": [
        "5)\n",
        "a) Design and **carry out an experiment** into the impact of the **length of the wordlists** on the wordlist classifier.  Make sure you **describe** design decisions in your experiment, include a **graph** of your results and **discuss** your conclusions.\n",
        "\n",
        "b) Would you **recommend** a wordlist classifier or a Naive Bayes classifier for future work in this area?  **Justify** your answer.\n",
        "\n",
        "[25\\%]\n"
      ]
    },
    {
      "cell_type": "markdown",
      "metadata": {},
      "source": [
        "**5a) - Experiment**\n",
        "- To investigate the impact of the length of the word lists on the `word_list_classifier`, we are going to use the same technique to generate multiple pairs of word lists with different lengths and create a `word_list_classifier` for each pair of word lists. Then we will use these `word_list_classifier`(s) to classify the testing data and calculate their scores, including `accuracy`, `precision`, `recall`, and `f1_score`.\n",
        "\n",
        "- Since we want our classifier to be best at review segmentation into both positive and negative classes (maximizing the True Positive + True Negative), we would pick `accuracy` as our decision score.\n",
        "\n",
        "- Now, we will carry out an experiment with the length of the lists ranging from 10 to 150 and steps by 5. The results will be stored in a DataFrame and plotted on a line graph."
      ]
    },
    {
      "cell_type": "code",
      "execution_count": 18,
      "metadata": {
        "id": "T1L7mZ-k2XUQ"
      },
      "outputs": [],
      "source": [
        "# scoring different word list classifiers using word lists with different lengths\n",
        "experiment = []\n",
        "\n",
        "for n in range(10, 151, 5):\n",
        "    pos_word_list = [word for (word, freq) in (pos_freq_dist-neg_freq_dist).most_common(n)]\n",
        "    neg_word_list = [word for (word,freq) in (neg_freq_dist-pos_freq_dist).most_common(n)]\n",
        "    \n",
        "    word_list_classifier = WLClassifier(pos_word_list, neg_word_list)\n",
        "    word_list_predictions = word_list_classifier.classify_many(docs)\n",
        "    \n",
        "    word_list_score = ConfusionMatrix(predictions=word_list_predictions, goldstandard=labels)\n",
        "    \n",
        "    experiment.append([n, word_list_score.accuracy(), word_list_score.precision(), word_list_score.recall(), word_list_score.f1()])"
      ]
    },
    {
      "cell_type": "code",
      "execution_count": 19,
      "metadata": {},
      "outputs": [
        {
          "data": {
            "text/html": [
              "<div>\n",
              "<style scoped>\n",
              "    .dataframe tbody tr th:only-of-type {\n",
              "        vertical-align: middle;\n",
              "    }\n",
              "\n",
              "    .dataframe tbody tr th {\n",
              "        vertical-align: top;\n",
              "    }\n",
              "\n",
              "    .dataframe thead th {\n",
              "        text-align: right;\n",
              "    }\n",
              "</style>\n",
              "<table border=\"1\" class=\"dataframe\">\n",
              "  <thead>\n",
              "    <tr style=\"text-align: right;\">\n",
              "      <th></th>\n",
              "      <th>word_list_length</th>\n",
              "      <th>accuracy</th>\n",
              "      <th>precision</th>\n",
              "      <th>recall</th>\n",
              "      <th>f1_score</th>\n",
              "    </tr>\n",
              "  </thead>\n",
              "  <tbody>\n",
              "    <tr>\n",
              "      <th>0</th>\n",
              "      <td>10</td>\n",
              "      <td>0.565000</td>\n",
              "      <td>0.537864</td>\n",
              "      <td>0.923333</td>\n",
              "      <td>0.679755</td>\n",
              "    </tr>\n",
              "    <tr>\n",
              "      <th>1</th>\n",
              "      <td>15</td>\n",
              "      <td>0.586667</td>\n",
              "      <td>0.549242</td>\n",
              "      <td>0.966667</td>\n",
              "      <td>0.700483</td>\n",
              "    </tr>\n",
              "    <tr>\n",
              "      <th>2</th>\n",
              "      <td>20</td>\n",
              "      <td>0.585000</td>\n",
              "      <td>0.548023</td>\n",
              "      <td>0.970000</td>\n",
              "      <td>0.700361</td>\n",
              "    </tr>\n",
              "    <tr>\n",
              "      <th>3</th>\n",
              "      <td>25</td>\n",
              "      <td>0.651667</td>\n",
              "      <td>0.598698</td>\n",
              "      <td>0.920000</td>\n",
              "      <td>0.725361</td>\n",
              "    </tr>\n",
              "    <tr>\n",
              "      <th>4</th>\n",
              "      <td>30</td>\n",
              "      <td>0.651667</td>\n",
              "      <td>0.596603</td>\n",
              "      <td>0.936667</td>\n",
              "      <td>0.728923</td>\n",
              "    </tr>\n",
              "    <tr>\n",
              "      <th>5</th>\n",
              "      <td>35</td>\n",
              "      <td>0.635000</td>\n",
              "      <td>0.583162</td>\n",
              "      <td>0.946667</td>\n",
              "      <td>0.721728</td>\n",
              "    </tr>\n",
              "    <tr>\n",
              "      <th>6</th>\n",
              "      <td>40</td>\n",
              "      <td>0.626667</td>\n",
              "      <td>0.576923</td>\n",
              "      <td>0.950000</td>\n",
              "      <td>0.717884</td>\n",
              "    </tr>\n",
              "    <tr>\n",
              "      <th>7</th>\n",
              "      <td>45</td>\n",
              "      <td>0.635000</td>\n",
              "      <td>0.582822</td>\n",
              "      <td>0.950000</td>\n",
              "      <td>0.722433</td>\n",
              "    </tr>\n",
              "    <tr>\n",
              "      <th>8</th>\n",
              "      <td>50</td>\n",
              "      <td>0.635000</td>\n",
              "      <td>0.582485</td>\n",
              "      <td>0.953333</td>\n",
              "      <td>0.723135</td>\n",
              "    </tr>\n",
              "    <tr>\n",
              "      <th>9</th>\n",
              "      <td>55</td>\n",
              "      <td>0.626667</td>\n",
              "      <td>0.576305</td>\n",
              "      <td>0.956667</td>\n",
              "      <td>0.719298</td>\n",
              "    </tr>\n",
              "    <tr>\n",
              "      <th>10</th>\n",
              "      <td>60</td>\n",
              "      <td>0.633333</td>\n",
              "      <td>0.580972</td>\n",
              "      <td>0.956667</td>\n",
              "      <td>0.722922</td>\n",
              "    </tr>\n",
              "    <tr>\n",
              "      <th>11</th>\n",
              "      <td>65</td>\n",
              "      <td>0.633333</td>\n",
              "      <td>0.580645</td>\n",
              "      <td>0.960000</td>\n",
              "      <td>0.723618</td>\n",
              "    </tr>\n",
              "    <tr>\n",
              "      <th>12</th>\n",
              "      <td>70</td>\n",
              "      <td>0.625000</td>\n",
              "      <td>0.574553</td>\n",
              "      <td>0.963333</td>\n",
              "      <td>0.719801</td>\n",
              "    </tr>\n",
              "    <tr>\n",
              "      <th>13</th>\n",
              "      <td>75</td>\n",
              "      <td>0.613333</td>\n",
              "      <td>0.564885</td>\n",
              "      <td>0.986667</td>\n",
              "      <td>0.718447</td>\n",
              "    </tr>\n",
              "    <tr>\n",
              "      <th>14</th>\n",
              "      <td>80</td>\n",
              "      <td>0.611667</td>\n",
              "      <td>0.563327</td>\n",
              "      <td>0.993333</td>\n",
              "      <td>0.718938</td>\n",
              "    </tr>\n",
              "    <tr>\n",
              "      <th>15</th>\n",
              "      <td>85</td>\n",
              "      <td>0.610000</td>\n",
              "      <td>0.562977</td>\n",
              "      <td>0.983333</td>\n",
              "      <td>0.716019</td>\n",
              "    </tr>\n",
              "    <tr>\n",
              "      <th>16</th>\n",
              "      <td>90</td>\n",
              "      <td>0.603333</td>\n",
              "      <td>0.558271</td>\n",
              "      <td>0.990000</td>\n",
              "      <td>0.713942</td>\n",
              "    </tr>\n",
              "    <tr>\n",
              "      <th>17</th>\n",
              "      <td>95</td>\n",
              "      <td>0.605000</td>\n",
              "      <td>0.559322</td>\n",
              "      <td>0.990000</td>\n",
              "      <td>0.714801</td>\n",
              "    </tr>\n",
              "    <tr>\n",
              "      <th>18</th>\n",
              "      <td>100</td>\n",
              "      <td>0.608333</td>\n",
              "      <td>0.561437</td>\n",
              "      <td>0.990000</td>\n",
              "      <td>0.716526</td>\n",
              "    </tr>\n",
              "    <tr>\n",
              "      <th>19</th>\n",
              "      <td>105</td>\n",
              "      <td>0.593333</td>\n",
              "      <td>0.552045</td>\n",
              "      <td>0.990000</td>\n",
              "      <td>0.708831</td>\n",
              "    </tr>\n",
              "    <tr>\n",
              "      <th>20</th>\n",
              "      <td>110</td>\n",
              "      <td>0.591667</td>\n",
              "      <td>0.550832</td>\n",
              "      <td>0.993333</td>\n",
              "      <td>0.708680</td>\n",
              "    </tr>\n",
              "    <tr>\n",
              "      <th>21</th>\n",
              "      <td>115</td>\n",
              "      <td>0.591667</td>\n",
              "      <td>0.550645</td>\n",
              "      <td>0.996667</td>\n",
              "      <td>0.709371</td>\n",
              "    </tr>\n",
              "    <tr>\n",
              "      <th>22</th>\n",
              "      <td>120</td>\n",
              "      <td>0.593333</td>\n",
              "      <td>0.551661</td>\n",
              "      <td>0.996667</td>\n",
              "      <td>0.710214</td>\n",
              "    </tr>\n",
              "    <tr>\n",
              "      <th>23</th>\n",
              "      <td>125</td>\n",
              "      <td>0.591667</td>\n",
              "      <td>0.550645</td>\n",
              "      <td>0.996667</td>\n",
              "      <td>0.709371</td>\n",
              "    </tr>\n",
              "    <tr>\n",
              "      <th>24</th>\n",
              "      <td>130</td>\n",
              "      <td>0.586667</td>\n",
              "      <td>0.547619</td>\n",
              "      <td>0.996667</td>\n",
              "      <td>0.706856</td>\n",
              "    </tr>\n",
              "    <tr>\n",
              "      <th>25</th>\n",
              "      <td>135</td>\n",
              "      <td>0.593333</td>\n",
              "      <td>0.551661</td>\n",
              "      <td>0.996667</td>\n",
              "      <td>0.710214</td>\n",
              "    </tr>\n",
              "    <tr>\n",
              "      <th>26</th>\n",
              "      <td>140</td>\n",
              "      <td>0.591667</td>\n",
              "      <td>0.550645</td>\n",
              "      <td>0.996667</td>\n",
              "      <td>0.709371</td>\n",
              "    </tr>\n",
              "    <tr>\n",
              "      <th>27</th>\n",
              "      <td>145</td>\n",
              "      <td>0.620000</td>\n",
              "      <td>0.568441</td>\n",
              "      <td>0.996667</td>\n",
              "      <td>0.723971</td>\n",
              "    </tr>\n",
              "    <tr>\n",
              "      <th>28</th>\n",
              "      <td>150</td>\n",
              "      <td>0.631667</td>\n",
              "      <td>0.576699</td>\n",
              "      <td>0.990000</td>\n",
              "      <td>0.728834</td>\n",
              "    </tr>\n",
              "  </tbody>\n",
              "</table>\n",
              "</div>"
            ],
            "text/plain": [
              "    word_list_length  accuracy  precision    recall  f1_score\n",
              "0                 10  0.565000   0.537864  0.923333  0.679755\n",
              "1                 15  0.586667   0.549242  0.966667  0.700483\n",
              "2                 20  0.585000   0.548023  0.970000  0.700361\n",
              "3                 25  0.651667   0.598698  0.920000  0.725361\n",
              "4                 30  0.651667   0.596603  0.936667  0.728923\n",
              "5                 35  0.635000   0.583162  0.946667  0.721728\n",
              "6                 40  0.626667   0.576923  0.950000  0.717884\n",
              "7                 45  0.635000   0.582822  0.950000  0.722433\n",
              "8                 50  0.635000   0.582485  0.953333  0.723135\n",
              "9                 55  0.626667   0.576305  0.956667  0.719298\n",
              "10                60  0.633333   0.580972  0.956667  0.722922\n",
              "11                65  0.633333   0.580645  0.960000  0.723618\n",
              "12                70  0.625000   0.574553  0.963333  0.719801\n",
              "13                75  0.613333   0.564885  0.986667  0.718447\n",
              "14                80  0.611667   0.563327  0.993333  0.718938\n",
              "15                85  0.610000   0.562977  0.983333  0.716019\n",
              "16                90  0.603333   0.558271  0.990000  0.713942\n",
              "17                95  0.605000   0.559322  0.990000  0.714801\n",
              "18               100  0.608333   0.561437  0.990000  0.716526\n",
              "19               105  0.593333   0.552045  0.990000  0.708831\n",
              "20               110  0.591667   0.550832  0.993333  0.708680\n",
              "21               115  0.591667   0.550645  0.996667  0.709371\n",
              "22               120  0.593333   0.551661  0.996667  0.710214\n",
              "23               125  0.591667   0.550645  0.996667  0.709371\n",
              "24               130  0.586667   0.547619  0.996667  0.706856\n",
              "25               135  0.593333   0.551661  0.996667  0.710214\n",
              "26               140  0.591667   0.550645  0.996667  0.709371\n",
              "27               145  0.620000   0.568441  0.996667  0.723971\n",
              "28               150  0.631667   0.576699  0.990000  0.728834"
            ]
          },
          "execution_count": 19,
          "metadata": {},
          "output_type": "execute_result"
        }
      ],
      "source": [
        "df = pd.DataFrame(data=experiment, columns=['word_list_length', 'accuracy', 'precision', 'recall', 'f1_score'])\n",
        "df"
      ]
    },
    {
      "cell_type": "code",
      "execution_count": 20,
      "metadata": {
        "id": "xFeOWIRm2XUQ"
      },
      "outputs": [
        {
          "data": {
            "image/png": "[encoded data removed]",
            "text/plain": [
              "<Figure size 1500x480 with 1 Axes>"
            ]
          },
          "metadata": {},
          "output_type": "display_data"
        }
      ],
      "source": [
        "import matplotlib.pyplot as plt\n",
        "\n",
        "plt.figure().set_figwidth(15)\n",
        "\n",
        "plt.plot(df.word_list_length, df.accuracy, label=\"accuracy\")\n",
        "plt.plot(df.word_list_length, df.precision, label=\"precision\")\n",
        "plt.plot(df.word_list_length, df.recall, label=\"recall\")\n",
        "plt.plot(df.word_list_length, df.f1_score, label=\"f1_score\")\n",
        "\n",
        "plt.title(\"Performance of the Wordlist Classifier with different word lists lengths\")\n",
        "plt.xlabel(\"Length of the word lists\")\n",
        "plt.xticks(ticks=df.word_list_length)\n",
        "plt.ylabel(\"Performance score\")\n",
        "plt.yticks(ticks=np.arange(0.5,1.01,0.05))\n",
        "plt.legend(loc=\"best\")\n",
        "\n",
        "plt.show()"
      ]
    },
    {
      "cell_type": "code",
      "execution_count": 21,
      "metadata": {},
      "outputs": [
        {
          "data": {
            "text/html": [
              "<div>\n",
              "<style scoped>\n",
              "    .dataframe tbody tr th:only-of-type {\n",
              "        vertical-align: middle;\n",
              "    }\n",
              "\n",
              "    .dataframe tbody tr th {\n",
              "        vertical-align: top;\n",
              "    }\n",
              "\n",
              "    .dataframe thead th {\n",
              "        text-align: right;\n",
              "    }\n",
              "</style>\n",
              "<table border=\"1\" class=\"dataframe\">\n",
              "  <thead>\n",
              "    <tr style=\"text-align: right;\">\n",
              "      <th></th>\n",
              "      <th>word_list_length</th>\n",
              "      <th>accuracy</th>\n",
              "      <th>precision</th>\n",
              "      <th>recall</th>\n",
              "      <th>f1_score</th>\n",
              "    </tr>\n",
              "  </thead>\n",
              "  <tbody>\n",
              "    <tr>\n",
              "      <th>3</th>\n",
              "      <td>25</td>\n",
              "      <td>0.651667</td>\n",
              "      <td>0.598698</td>\n",
              "      <td>0.920000</td>\n",
              "      <td>0.725361</td>\n",
              "    </tr>\n",
              "    <tr>\n",
              "      <th>4</th>\n",
              "      <td>30</td>\n",
              "      <td>0.651667</td>\n",
              "      <td>0.596603</td>\n",
              "      <td>0.936667</td>\n",
              "      <td>0.728923</td>\n",
              "    </tr>\n",
              "  </tbody>\n",
              "</table>\n",
              "</div>"
            ],
            "text/plain": [
              "   word_list_length  accuracy  precision    recall  f1_score\n",
              "3                25  0.651667   0.598698  0.920000  0.725361\n",
              "4                30  0.651667   0.596603  0.936667  0.728923"
            ]
          },
          "execution_count": 21,
          "metadata": {},
          "output_type": "execute_result"
        }
      ],
      "source": [
        "df[df.accuracy == df.accuracy.max()]"
      ]
    },
    {
      "cell_type": "markdown",
      "metadata": {},
      "source": [
        "**5a) - Answer**\n",
        "- In general, the `word_list_classifier`(s)' scores varied on different word lists' lengths.\n",
        "\n",
        "- Although the `f1_score` remained stable at around 0.7, the `precision` and `recall` fluctuated substantially and saw opposite trends since we have had a trade-off between these scores.\n",
        "\n",
        "- Our decision score `accuracy` witnessed the same trend with `precision` as it increased and reached its peak when the lists had 25 words. When the lists' lengths passed 35 words, the `accuracy` fell slowly. In detail, we got the maximum `accuracy` at around 65%, with a pair of lists having 25 or 30 words. It seems reasonable that we needed long enough lists to distinguish positives and negatives because words representative of a class could also occur a lot in reviews of the other class, as we discussed above. On the other hand, when increasing the lists, the words that represent a class but occur in a few reviews in that class would become noises and decrease the prediction accuracy."
      ]
    },
    {
      "cell_type": "markdown",
      "metadata": {
        "id": "Ym-TGvYS2XUR"
      },
      "source": [
        "**5b) - Answer**\n",
        "- In my opinion, both these classifiers have their strengths and limitations. \n",
        "    - Wordlist Classifier: \n",
        "        - Strengths: It is easy to use and runs very fast. If we have lists of words that represent the classes well, it could be efficient.\n",
        "        - Limitations: However, it struggles with context, and this leads to misclassification (e.g., consider \"not good\" or \"not great\" as positive instead of negative).\n",
        "    - Naive Bayes Classifier:\n",
        "        - Strengths: It is based on probability and considers the relationship between words and classes, so it could be more accurate when handling complex documents.\n",
        "        - Limitations: It assumes independence between features (words), which is not true in real-world language.\n",
        "<br></br>\n",
        "\n",
        "- For the future, I would recommend Naive Bayes for most of the work due to its strengths and efficiency. "
      ]
    },
    {
      "cell_type": "code",
      "execution_count": 22,
      "metadata": {
        "colab": {
          "base_uri": "https://localhost:8080/"
        },
        "id": "34rdlS_iPov6",
        "outputId": "5465e8f3-ec02-4ff6-b326-0bf15c507b73"
      },
      "outputs": [
        {
          "name": "stderr",
          "output_type": "stream",
          "text": [
            "/var/folders/y2/5bc370ns7y950ttnrywq1wqr0000gn/T/ipykernel_28765/4031863941.py:4: DeprecationWarning: nbformat.current is deprecated since before nbformat 3.0\n",
            "\n",
            "- use nbformat for read/write/validate public API\n",
            "- use nbformat.vX directly to composing notebooks of a particular version\n",
            "\n",
            "  from nbformat import current\n"
          ]
        },
        {
          "ename": "ModuleNotFoundError",
          "evalue": "No module named 'google'",
          "output_type": "error",
          "traceback": [
            "\u001b[0;31m---------------------------------------------------------------------------\u001b[0m",
            "\u001b[0;31mModuleNotFoundError\u001b[0m                       Traceback (most recent call last)",
            "\u001b[1;32m/Users/thanhnguyen/Library/CloudStorage/OneDrive-UniversityofSussex/Modules/Optional Modules/Applied Natural Language Processing (955G5)/Assignments/Report 1/ANLPassignment2023.ipynb Cell 36\u001b[0m line \u001b[0;36m6\n\u001b[1;32m      <a href='vscode-notebook-cell:/Users/thanhnguyen/Library/CloudStorage/OneDrive-UniversityofSussex/Modules/Optional%20Modules/Applied%20Natural%20Language%20Processing%20%28955G5%29/Assignments/Report%201/ANLPassignment2023.ipynb#X50sZmlsZQ%3D%3D?line=2'>3</a>\u001b[0m \u001b[39mimport\u001b[39;00m \u001b[39mio\u001b[39;00m\n\u001b[1;32m      <a href='vscode-notebook-cell:/Users/thanhnguyen/Library/CloudStorage/OneDrive-UniversityofSussex/Modules/Optional%20Modules/Applied%20Natural%20Language%20Processing%20%28955G5%29/Assignments/Report%201/ANLPassignment2023.ipynb#X50sZmlsZQ%3D%3D?line=3'>4</a>\u001b[0m \u001b[39mfrom\u001b[39;00m \u001b[39mnbformat\u001b[39;00m \u001b[39mimport\u001b[39;00m current\n\u001b[0;32m----> <a href='vscode-notebook-cell:/Users/thanhnguyen/Library/CloudStorage/OneDrive-UniversityofSussex/Modules/Optional%20Modules/Applied%20Natural%20Language%20Processing%20%28955G5%29/Assignments/Report%201/ANLPassignment2023.ipynb#X50sZmlsZQ%3D%3D?line=5'>6</a>\u001b[0m \u001b[39mfrom\u001b[39;00m \u001b[39mgoogle\u001b[39;00m\u001b[39m.\u001b[39;00m\u001b[39mcolab\u001b[39;00m \u001b[39mimport\u001b[39;00m drive\n\u001b[1;32m      <a href='vscode-notebook-cell:/Users/thanhnguyen/Library/CloudStorage/OneDrive-UniversityofSussex/Modules/Optional%20Modules/Applied%20Natural%20Language%20Processing%20%28955G5%29/Assignments/Report%201/ANLPassignment2023.ipynb#X50sZmlsZQ%3D%3D?line=6'>7</a>\u001b[0m drive\u001b[39m.\u001b[39mmount(\u001b[39m'\u001b[39m\u001b[39m/content/drive\u001b[39m\u001b[39m'\u001b[39m)\n\u001b[1;32m      <a href='vscode-notebook-cell:/Users/thanhnguyen/Library/CloudStorage/OneDrive-UniversityofSussex/Modules/Optional%20Modules/Applied%20Natural%20Language%20Processing%20%28955G5%29/Assignments/Report%201/ANLPassignment2023.ipynb#X50sZmlsZQ%3D%3D?line=8'>9</a>\u001b[0m filepath\u001b[39m=\u001b[39m\u001b[39m\"\u001b[39m\u001b[39m/content/drive/MyDrive/Colab Notebooks/ANLPassignment2023.ipynb\u001b[39m\u001b[39m\"\u001b[39m\n",
            "\u001b[0;31mModuleNotFoundError\u001b[0m: No module named 'google'"
          ]
        }
      ],
      "source": [
        "##This code will word count all of the markdown cells in the notebook saved at filepath\n",
        "\n",
        "import io\n",
        "from nbformat import current\n",
        "\n",
        "from google.colab import drive\n",
        "drive.mount('/content/drive')\n",
        "\n",
        "filepath=\"/content/drive/MyDrive/Colab Notebooks/ANLPassignment2023.ipynb\"\n",
        "question_count=432\n",
        "\n",
        "with io.open(filepath, 'r', encoding='utf-8') as f:\n",
        "    nb = current.read(f, 'json')\n",
        "\n",
        "word_count = 0\n",
        "for cell in nb.worksheets[0].cells:\n",
        "    if cell.cell_type == \"markdown\":\n",
        "        word_count += len(cell['source'].replace('#', '').lstrip().split(' '))\n",
        "print(\"Submission length is {}\".format(word_count-question_count))"
      ]
    }
  ],
  "metadata": {
    "colab": {
      "provenance": []
    },
    "kernelspec": {
      "display_name": "Python 3",
      "language": "python",
      "name": "python3"
    },
    "language_info": {
      "codemirror_mode": {
        "name": "ipython",
        "version": 3
      },
      "file_extension": ".py",
      "mimetype": "text/x-python",
      "name": "python",
      "nbconvert_exporter": "python",
      "pygments_lexer": "ipython3",
      "version": "3.12.0"
    }
  },
  "nbformat": 4,
  "nbformat_minor": 0
}
